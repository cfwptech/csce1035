{
  "nbformat": 4,
  "nbformat_minor": 0,
  "metadata": {
    "colab": {
      "provenance": [],
      "authorship_tag": "ABX9TyO81F1MQEg5U+oV2nlhYx0w",
      "include_colab_link": true
    },
    "kernelspec": {
      "name": "python3",
      "display_name": "Python 3"
    },
    "language_info": {
      "name": "python"
    }
  },
  "cells": [
    {
      "cell_type": "markdown",
      "metadata": {
        "id": "view-in-github",
        "colab_type": "text"
      },
      "source": [
        "<a href=\"https://colab.research.google.com/github/cfwptech/csce1035/blob/main/project02.ipynb\" target=\"_parent\"><img src=\"https://colab.research.google.com/assets/colab-badge.svg\" alt=\"Open In Colab\"/></a>"
      ]
    },
    {
      "cell_type": "markdown",
      "source": [
        "1. Password Encryption:\n",
        "- Functionality:\n",
        "  - Implement a function named encrypt_password that applies a Caesar cipher encryption to the user's password\n",
        "    - shifting each letter (uppercase and lowercase) and digit by three positions forward.\n",
        "    - Characters that wrap around (e.g., 'z' to 'c', '9' to '2') should be correctly handled, while non-alphanumeric characters remain unchanged.\n",
        "- Technical Details:\n",
        "  - Utilize ASCII values for encryption,\n",
        "    - adapting the formula (m + 3 - base) % range + base for different character sets (uppercase, lowercase, digits), where m is the ASCII value of the character, base is the starting ASCII value of the character set, and range is the size of the character set (26 for letters, 10 for digits)."
      ],
      "metadata": {
        "id": "wK---4J7uohy"
      }
    },
    {
      "cell_type": "code",
      "execution_count": null,
      "metadata": {
        "id": "LsIqF83NuTN6",
        "colab": {
          "base_uri": "https://localhost:8080/"
        },
        "outputId": "a6d938b1-983e-4e2d-adad-267f285416f6"
      },
      "outputs": [
        {
          "output_type": "stream",
          "name": "stdout",
          "text": [
            "Enter your password: Poopa214*\n",
            "Poopa214*\n",
            "Srrsd547*\n"
          ]
        }
      ],
      "source": [
        "# Password Encryption\n",
        "\n",
        "# prompt user password\n",
        "user_password = input(\"Enter your password: \")\n",
        "\n",
        "# define function to encrypt password\n",
        "def encrypt_password(password):\n",
        "  # set the encryption string\n",
        "  encryption = \"\"\n",
        "  #iterate the user password to change each char\n",
        "  for char in user_password:\n",
        "  #if the char a isupper,\n",
        "    if char.isupper():\n",
        "  #identify the base ascii letter\n",
        "      base = ord('A')\n",
        "      range = 26\n",
        "  #apply the formula on the ascii num of the char\n",
        "      new_char = chr((ord(char) + 3 - base) % range + base)\n",
        "  #if the char a islower,\n",
        "    elif char.islower():\n",
        "  #identify the base ascii letter\n",
        "      base = ord('a')\n",
        "      range = 26\n",
        "  #apply the formula on the ascii num of the char\n",
        "      new_char = chr((ord(char) + 3 - base) % range + base)\n",
        "  #if char is a number\n",
        "    elif char.isdigit():\n",
        "  #identify the base ascii\n",
        "      base = ord('0')\n",
        "      range = 10\n",
        "  #apply the formula to the number\n",
        "      new_char = chr((ord(char) + 3 - base) % range + base)\n",
        "  #all others, add to enctrpyion unchanged\n",
        "    else:\n",
        "      new_char = char\n",
        "  # add chars to encryption and return the new char\n",
        "    encryption += new_char\n",
        "  #return new encryption string\n",
        "  return encryption\n",
        "\n",
        "# call encrypt function on user password\n",
        "print(encrypt_password(user_password))"
      ]
    },
    {
      "cell_type": "markdown",
      "source": [
        "2. Account Transactions:\n",
        "- Deposits:\n",
        "  - Develop a function deposit_amount that increases the account's balance by a specified amount. It should accept a floating-point number as input and print the updated balance.\n",
        "- Withdrawals:\n",
        "  - Create a function withdraw_amount to decrease the account's balance by a specified amount, provided there are sufficient funds. It should print the new balance or a warning message in case of insufficient funds."
      ],
      "metadata": {
        "id": "c4EGxQjaZJWQ"
      }
    },
    {
      "cell_type": "code",
      "source": [
        "# login\n",
        "def create_account():\n",
        "  print(\"Welcome to the Simple Banking System!\\n\")\n",
        "  user_id = input(\"Enter new user ID: \")\n",
        "  user_password = input(\"Enter password: \")\n",
        "  user_initial_balance = float(input(\"Enter initial balance: $\"))\n",
        "\n",
        "  user_account = {\n",
        "      \"id\": user_id,\n",
        "      \"password\": user_password,\n",
        "      \"initial_balance\": user_initial_balance\n",
        "  }\n",
        "\n",
        "  if user_account != \"\":\n",
        "    print(\"\\nAccount created sucessfully!\\n\")\n",
        "\n",
        "create_account()"
      ],
      "metadata": {
        "colab": {
          "base_uri": "https://localhost:8080/"
        },
        "id": "WFYmBuelHOy5",
        "outputId": "71772bff-7f50-4779-b035-8615311014bd"
      },
      "execution_count": null,
      "outputs": [
        {
          "output_type": "stream",
          "name": "stdout",
          "text": [
            "Welcome to the Simple Banking System!\n",
            "\n",
            "Enter new user ID: chinew\n",
            "Enter password: watjins\n",
            "Enter initial balance: $1555\n",
            "\n",
            "Account created sucessfully!\n",
            "\n"
          ]
        }
      ]
    },
    {
      "cell_type": "code",
      "source": [
        "# logout\n",
        "\n",
        "user_id = input(\"Enter new user ID: \")\n",
        "user_password = input(\"Enter password: \")\n",
        "user_initial_balance = float(input(\"Enter initial balance: $\"))\n",
        "\n",
        "user_account = {\n",
        "    \"id\": user_id,\n",
        "    \"password\": user_password,\n",
        "    \"initial_balance\": user_initial_balance\n",
        "}\n",
        "\n",
        "def check_id():\n",
        "  user = user_account['id']\n",
        "  if user_account['id'] != \"\":\n",
        "     print(f'User {user} logged out of the account.')\n",
        "  elif user_account['id'] == \"\":\n",
        "    print(f'You have successfully logged out of the account.')\n",
        "  else:\n",
        "    print(\"404: Sorry. Failed app. \")\n",
        "\n",
        "check_id()"
      ],
      "metadata": {
        "colab": {
          "base_uri": "https://localhost:8080/"
        },
        "id": "Ztop_YXJYiYI",
        "outputId": "cf2c6708-498a-46d1-b764-c03d3cea79c1"
      },
      "execution_count": null,
      "outputs": [
        {
          "output_type": "stream",
          "name": "stdout",
          "text": [
            "Enter new user ID: chinwe\n",
            "Enter password: me123\n",
            "Enter initial balance: $777\n",
            "User chinwe logged out of the account.\n"
          ]
        }
      ]
    },
    {
      "cell_type": "code",
      "source": [
        "# Print balance\n",
        "user_initial_balance = float(input(\"Enter initial balance: $\"))\n",
        "user_deposit = float(input(\"Deposit funds: $\"))\n",
        "user_withdraw = float(input(\"Withdraw funds: $\"))\n",
        "\n",
        "user_account = {\n",
        "    \"id\": user_id,\n",
        "    \"password\": user_password,\n",
        "    \"initial_balance\": user_initial_balance,\n",
        "    \"deposit\": user_deposit,\n",
        "    \"withdraw\": user_withdraw,\n",
        "    \"current_balance\": 0\n",
        "}\n",
        "\n",
        "def print_balance():\n",
        "  current_balance = user_initial_balance + user_deposit - user_withdraw\n",
        "  print(f'Current Balance: $ {current_balance}')\n",
        "\n",
        "print_balance()"
      ],
      "metadata": {
        "colab": {
          "base_uri": "https://localhost:8080/"
        },
        "id": "YAohEANErpgq",
        "outputId": "ba4c3469-8819-4f30-c305-8386a134a207"
      },
      "execution_count": null,
      "outputs": [
        {
          "output_type": "stream",
          "name": "stdout",
          "text": [
            "Enter initial balance: $100\n",
            "Deposit funds: $200\n",
            "Withdraw funds: $0\n",
            "Current Balance: $ 300.0\n"
          ]
        }
      ]
    },
    {
      "cell_type": "code",
      "source": [
        "user_initial_balance = float(input(\"Enter initial balance: $\"))\n",
        "\n",
        "user_account = {\n",
        "      \"id\": user_id,\n",
        "      \"password\": user_password,\n",
        "      \"initial_balance\": user_initial_balance,\n",
        "      \"current_balance\": user_initial_balance\n",
        "  }\n",
        "\n",
        "user = user_account['id']\n",
        "current_balance = user_account['current_balance'] #+ user_deposit - user_withdraw\n",
        "\n",
        "print(user_account['current_balance'])"
      ],
      "metadata": {
        "colab": {
          "base_uri": "https://localhost:8080/"
        },
        "id": "tKnZTiGZ_0Jo",
        "outputId": "f46b6829-c968-4519-905a-dcb135454747"
      },
      "execution_count": null,
      "outputs": [
        {
          "output_type": "stream",
          "name": "stdout",
          "text": [
            "Enter initial balance: $100\n",
            "100.0\n"
          ]
        }
      ]
    },
    {
      "cell_type": "code",
      "source": [
        "# Change password\n",
        "\n",
        "#take password from user\n",
        "start_password = ''\n",
        "user_password = input('Enter password: ')\n",
        "current_password = user_password\n",
        "\n",
        "#user account dictionary\n",
        "user_account = {\n",
        "      \"password\": user_password\n",
        "  }\n",
        "\n",
        "#define is_password function to check if there is a password in the user account\n",
        "def is_password(password):\n",
        "  if user_account['password']:\n",
        "    user_account['password'] = user_password\n",
        "  else:\n",
        "    user_account['password'] = input('Enter new password: ')\n",
        "    print(user_account['password'])\n",
        "\n",
        "#define change password function\n",
        "def change_password(user_password):\n",
        "  current_password = user_password\n",
        "  print(current_password)\n",
        "  user_account['password'] = input('Enter NEW password: ')\n",
        "  new_password = user_account['password']\n",
        "  print(f'The new password is: {new_password}')\n",
        "\n",
        "#call funtion\n",
        "#is_password(user_password)\n",
        "change_password(user_password)"
      ],
      "metadata": {
        "colab": {
          "base_uri": "https://localhost:8080/"
        },
        "id": "AWtury1gMCJG",
        "outputId": "98aaa427-76f4-4309-dd84-d0aff149d47f"
      },
      "execution_count": null,
      "outputs": [
        {
          "output_type": "stream",
          "name": "stdout",
          "text": [
            "Enter password: chiolsnfd\n",
            "chiolsnfd\n",
            "Enter NEW password: lklsjmdnf\n",
            "The new password is: lklsjmdnf\n"
          ]
        }
      ]
    },
    {
      "cell_type": "code",
      "source": [
        "# Account Transactions - deposit\n",
        "initial_balance = 1000\n",
        "\n",
        "\n",
        "user_account = {\n",
        "       \"initial_balance\": initial_balance,\n",
        "       \"current_balance\": current_balance\n",
        "   }\n",
        "\n",
        "# Deposit: define function to add user deposit to bank balance\n",
        "def deposit(amount):\n",
        "  current_balance = initial_balance\n",
        "  print(f'Account Balance: ${current_balance}')\n",
        "  user_deposit = float(input(\"Enter amount to deposit: $\"))\n",
        "  current_balance = print(f'Your new acct balance: {amount + user_deposit}')\n",
        "  return current_balance\n",
        "\n",
        "deposit(initial_balance)"
      ],
      "metadata": {
        "id": "0iKi5MAmZZ7i",
        "colab": {
          "base_uri": "https://localhost:8080/"
        },
        "outputId": "14d01fd7-b75d-459c-bc27-ed5667ca7725"
      },
      "execution_count": null,
      "outputs": [
        {
          "output_type": "stream",
          "name": "stdout",
          "text": [
            "Account Balance: $1000\n",
            "Enter amount to deposit: $500\n",
            "Your new acct balance: 1500.0\n"
          ]
        }
      ]
    },
    {
      "cell_type": "code",
      "source": [
        "# Account Transactions - withdraw\n",
        "current_balance = 1000\n",
        "\n",
        "user_account = {\n",
        "       \"current_balance\": current_balance\n",
        "   }\n",
        "\n",
        "# Deposit: define function to add user deposit to bank balance\n",
        "def withdraw(amount):\n",
        "  current_balance = user_account['current_balance']\n",
        "  print(f'Account Balance: ${current_balance}')\n",
        "  user_withdraw = float(input(\"Enter amount to withdraw: $\"))\n",
        "  current_balance = print(f'Your new acct balance: ${amount - user_withdraw}')\n",
        "  return current_balance\n",
        "\n",
        "withdraw(current_balance)"
      ],
      "metadata": {
        "colab": {
          "base_uri": "https://localhost:8080/",
          "height": 356
        },
        "id": "OrH0JXrdHlIc",
        "outputId": "beee33b7-1f82-4599-c121-58756bd9e11c"
      },
      "execution_count": null,
      "outputs": [
        {
          "output_type": "stream",
          "name": "stdout",
          "text": [
            "Account Balance: $1000\n"
          ]
        },
        {
          "output_type": "error",
          "ename": "KeyboardInterrupt",
          "evalue": "Interrupted by user",
          "traceback": [
            "\u001b[0;31m---------------------------------------------------------------------------\u001b[0m",
            "\u001b[0;31mKeyboardInterrupt\u001b[0m                         Traceback (most recent call last)",
            "\u001b[0;32m<ipython-input-2-b5ab79a76fad>\u001b[0m in \u001b[0;36m<cell line: 0>\u001b[0;34m()\u001b[0m\n\u001b[1;32m     14\u001b[0m   \u001b[0;32mreturn\u001b[0m \u001b[0mcurrent_balance\u001b[0m\u001b[0;34m\u001b[0m\u001b[0;34m\u001b[0m\u001b[0m\n\u001b[1;32m     15\u001b[0m \u001b[0;34m\u001b[0m\u001b[0m\n\u001b[0;32m---> 16\u001b[0;31m \u001b[0mwithdraw\u001b[0m\u001b[0;34m(\u001b[0m\u001b[0mcurrent_balance\u001b[0m\u001b[0;34m)\u001b[0m\u001b[0;34m\u001b[0m\u001b[0;34m\u001b[0m\u001b[0m\n\u001b[0m",
            "\u001b[0;32m<ipython-input-2-b5ab79a76fad>\u001b[0m in \u001b[0;36mwithdraw\u001b[0;34m(amount)\u001b[0m\n\u001b[1;32m     10\u001b[0m   \u001b[0mcurrent_balance\u001b[0m \u001b[0;34m=\u001b[0m \u001b[0muser_account\u001b[0m\u001b[0;34m[\u001b[0m\u001b[0;34m'current_balance'\u001b[0m\u001b[0;34m]\u001b[0m\u001b[0;34m\u001b[0m\u001b[0;34m\u001b[0m\u001b[0m\n\u001b[1;32m     11\u001b[0m   \u001b[0mprint\u001b[0m\u001b[0;34m(\u001b[0m\u001b[0;34mf'Account Balance: ${current_balance}'\u001b[0m\u001b[0;34m)\u001b[0m\u001b[0;34m\u001b[0m\u001b[0;34m\u001b[0m\u001b[0m\n\u001b[0;32m---> 12\u001b[0;31m   \u001b[0muser_withdraw\u001b[0m \u001b[0;34m=\u001b[0m \u001b[0mfloat\u001b[0m\u001b[0;34m(\u001b[0m\u001b[0minput\u001b[0m\u001b[0;34m(\u001b[0m\u001b[0;34m\"Enter amount to withdraw: $\"\u001b[0m\u001b[0;34m)\u001b[0m\u001b[0;34m)\u001b[0m\u001b[0;34m\u001b[0m\u001b[0;34m\u001b[0m\u001b[0m\n\u001b[0m\u001b[1;32m     13\u001b[0m   \u001b[0mcurrent_balance\u001b[0m \u001b[0;34m=\u001b[0m \u001b[0mprint\u001b[0m\u001b[0;34m(\u001b[0m\u001b[0;34mf'Your new acct balance: ${amount - user_withdraw}'\u001b[0m\u001b[0;34m)\u001b[0m\u001b[0;34m\u001b[0m\u001b[0;34m\u001b[0m\u001b[0m\n\u001b[1;32m     14\u001b[0m   \u001b[0;32mreturn\u001b[0m \u001b[0mcurrent_balance\u001b[0m\u001b[0;34m\u001b[0m\u001b[0;34m\u001b[0m\u001b[0m\n",
            "\u001b[0;32m/usr/local/lib/python3.11/dist-packages/ipykernel/kernelbase.py\u001b[0m in \u001b[0;36mraw_input\u001b[0;34m(self, prompt)\u001b[0m\n\u001b[1;32m   1175\u001b[0m                 \u001b[0;34m\"raw_input was called, but this frontend does not support input requests.\"\u001b[0m\u001b[0;34m\u001b[0m\u001b[0;34m\u001b[0m\u001b[0m\n\u001b[1;32m   1176\u001b[0m             )\n\u001b[0;32m-> 1177\u001b[0;31m         return self._input_request(\n\u001b[0m\u001b[1;32m   1178\u001b[0m             \u001b[0mstr\u001b[0m\u001b[0;34m(\u001b[0m\u001b[0mprompt\u001b[0m\u001b[0;34m)\u001b[0m\u001b[0;34m,\u001b[0m\u001b[0;34m\u001b[0m\u001b[0;34m\u001b[0m\u001b[0m\n\u001b[1;32m   1179\u001b[0m             \u001b[0mself\u001b[0m\u001b[0;34m.\u001b[0m\u001b[0m_parent_ident\u001b[0m\u001b[0;34m[\u001b[0m\u001b[0;34m\"shell\"\u001b[0m\u001b[0;34m]\u001b[0m\u001b[0;34m,\u001b[0m\u001b[0;34m\u001b[0m\u001b[0;34m\u001b[0m\u001b[0m\n",
            "\u001b[0;32m/usr/local/lib/python3.11/dist-packages/ipykernel/kernelbase.py\u001b[0m in \u001b[0;36m_input_request\u001b[0;34m(self, prompt, ident, parent, password)\u001b[0m\n\u001b[1;32m   1217\u001b[0m             \u001b[0;32mexcept\u001b[0m \u001b[0mKeyboardInterrupt\u001b[0m\u001b[0;34m:\u001b[0m\u001b[0;34m\u001b[0m\u001b[0;34m\u001b[0m\u001b[0m\n\u001b[1;32m   1218\u001b[0m                 \u001b[0;31m# re-raise KeyboardInterrupt, to truncate traceback\u001b[0m\u001b[0;34m\u001b[0m\u001b[0;34m\u001b[0m\u001b[0m\n\u001b[0;32m-> 1219\u001b[0;31m                 \u001b[0;32mraise\u001b[0m \u001b[0mKeyboardInterrupt\u001b[0m\u001b[0;34m(\u001b[0m\u001b[0;34m\"Interrupted by user\"\u001b[0m\u001b[0;34m)\u001b[0m \u001b[0;32mfrom\u001b[0m \u001b[0;32mNone\u001b[0m\u001b[0;34m\u001b[0m\u001b[0;34m\u001b[0m\u001b[0m\n\u001b[0m\u001b[1;32m   1220\u001b[0m             \u001b[0;32mexcept\u001b[0m \u001b[0mException\u001b[0m\u001b[0;34m:\u001b[0m\u001b[0;34m\u001b[0m\u001b[0;34m\u001b[0m\u001b[0m\n\u001b[1;32m   1221\u001b[0m                 \u001b[0mself\u001b[0m\u001b[0;34m.\u001b[0m\u001b[0mlog\u001b[0m\u001b[0;34m.\u001b[0m\u001b[0mwarning\u001b[0m\u001b[0;34m(\u001b[0m\u001b[0;34m\"Invalid Message:\"\u001b[0m\u001b[0;34m,\u001b[0m \u001b[0mexc_info\u001b[0m\u001b[0;34m=\u001b[0m\u001b[0;32mTrue\u001b[0m\u001b[0;34m)\u001b[0m\u001b[0;34m\u001b[0m\u001b[0;34m\u001b[0m\u001b[0m\n",
            "\u001b[0;31mKeyboardInterrupt\u001b[0m: Interrupted by user"
          ]
        }
      ]
    },
    {
      "cell_type": "code",
      "source": [
        "#login\n",
        "user_id = input(\"Enter user ID: \")\n",
        "password_check = input(\"Enter password: \")\n",
        "\n",
        "current_user = 'chinwe1'\n",
        "current_password = \"watkins214\"\n",
        "\n",
        "user_account = {\n",
        "       \"id\": current_user,\n",
        "       \"password\": current_password,\n",
        "   }\n",
        "\n",
        "user_account[\"password\"] = \"watkins1\"\n",
        "\n",
        "def login(password_check, id):\n",
        "  if password_check == user_account['password'] and id == user_account['id']:\n",
        "    print(f'User {id} is logged in successfully.')\n",
        "  else:\n",
        "    print(\"\\nWrong User ID or Password!\")\n",
        "    print(\"Try again.\\n\")\n",
        "    user_id = input(\"Enter User ID: \")\n",
        "    password_check = input(\"Enter password again: \")\n",
        "    if password_check == user_account['password'] and id == user_account['id']:\n",
        "      print(f'User {id} is logged in successfully.')\n",
        "    else:\n",
        "      print(\"Access Denied!!\")\n",
        "\n",
        "login(password_check, user_id)"
      ],
      "metadata": {
        "colab": {
          "base_uri": "https://localhost:8080/"
        },
        "id": "qnxQU7pp3fZR",
        "outputId": "def5e380-9fcb-4a2f-ebcd-742a6c598e29"
      },
      "execution_count": 37,
      "outputs": [
        {
          "output_type": "stream",
          "name": "stdout",
          "text": [
            "Enter user ID: reesie\n",
            "Enter password: watkins1\n",
            "\n",
            "Wrong User ID or Password!\n",
            "Try again.\n",
            "\n",
            "Enter User ID: reesie\n",
            "Enter password again: watkins1\n",
            "Access Denied!!\n"
          ]
        }
      ]
    },
    {
      "cell_type": "code",
      "source": [
        "# BankingApp - v1\n",
        "\n",
        "def select_choice(user_action):\n",
        "  initial_balance = 0\n",
        "  user_action = int(input(\"Enter Choice> \"))\n",
        "  if user_action == 1:\n",
        "    login(user_password, user_id)\n",
        "  elif user_action == 2:\n",
        "    deposit(initial_balance)\n",
        "  elif user_action == 3:\n",
        "    withdraw(user_account['current_balance'])\n",
        "  elif user_action == 4:\n",
        "    print_balance()\n",
        "  elif user_action == 5:\n",
        "    change_password(current_password)\n",
        "  elif user_action ==  6:\n",
        "  #call logout function\n",
        "    check_id_logout()\n",
        "    print(\"Thank you for using the Simple Banking System!\")\n",
        "  else:\n",
        "    print(\"Wrong number entered. Restart program and choose a number between 1 and 6.\")\n",
        "\n",
        "def create_account():\n",
        "  print(\"\\nWelcome to the Simple Banking System!\\n\")\n",
        "\n",
        "  global user_id\n",
        "  user_id = input(\"Enter new user ID: \")\n",
        "\n",
        "  global user_password\n",
        "  user_password = input(\"Enter password: \")\n",
        "\n",
        "  global current_password\n",
        "  current_password = user_password\n",
        "\n",
        "  user_initial_balance = float(input(\"Enter initial balance: $\"))\n",
        "  current_balance = user_initial_balance\n",
        "\n",
        "  global user_account\n",
        "  user_account = {\n",
        "       \"id\": user_id,\n",
        "       \"password\": current_password,\n",
        "       \"initial_balance\": user_initial_balance,\n",
        "       \"current_balance\": current_balance\n",
        "   }\n",
        "\n",
        "  encrypted_password = encrypt_password(user_account['password'])\n",
        "  user_account['encrypted_password'] = encrypted_password\n",
        "  #print(user_account)\n",
        "\n",
        "  if user_account != \"\":\n",
        "    print(\"\\nAccount created sucessfully!\\n\")\n",
        "\n",
        "# define function to encrypt password\n",
        "def encrypt_password(password):\n",
        "  user_password = user_account['password']\n",
        "  # set the encryption string\n",
        "  encryption = \"\"\n",
        "  #iterate the user password to change each char\n",
        "  for char in user_password:\n",
        "  #if the char a isupper,\n",
        "    if char.isupper():\n",
        "  #identify the base ascii letter\n",
        "      base = ord('A')\n",
        "      range = 26\n",
        "  #apply the formula on the ascii num of the char\n",
        "      new_char = chr((ord(char) + 3 - base) % range + base)\n",
        "  #if the char a islower,\n",
        "    elif char.islower():\n",
        "  #identify the base ascii letter\n",
        "      base = ord('a')\n",
        "      range = 26\n",
        "  #apply the formula on the ascii num of the char\n",
        "      new_char = chr((ord(char) + 3 - base) % range + base)\n",
        "  #if char is a number\n",
        "    elif char.isdigit():\n",
        "  #identify the base ascii\n",
        "      base = ord('0')\n",
        "      range = 10\n",
        "  #apply the formula to the number\n",
        "      new_char = chr((ord(char) + 3 - base) % range + base)\n",
        "  #all others, add to enctrpyion unchanged\n",
        "    else:\n",
        "      new_char = char\n",
        "  # add chars to encryption and return the new char\n",
        "    encryption += new_char\n",
        "  #return new encryption string\n",
        "  return encryption\n",
        "\n",
        "def login(password_check, user_id):\n",
        "  user_id = input(\"Enter user ID: \")\n",
        "  password_check = input(\"Enter password: \")\n",
        "  if password_check == user_account['password'] and user_id == user_account['id']:\n",
        "    #print(password_check)\n",
        "    #print(user_id)\n",
        "    print(f'User {user_id} is logged in successfully.\\n')\n",
        "    select_choice(user_action)\n",
        "  else:\n",
        "    print(\"\\nWrong User ID or Password!\")\n",
        "    #print(password_check)\n",
        "    #print(user_id)\n",
        "    print(\"Try again.\\n\")\n",
        "    user_id = input(\"Enter User ID: \")\n",
        "    password_check = input(\"Enter password again: \")\n",
        "    if password_check == user_account['password'] and user_id == user_account['id']:\n",
        "      print(f'User {user_id} is logged in successfully./n')\n",
        "      select_choice(user_action)\n",
        "    else:\n",
        "      print(\"Access Denied!!\")\n",
        "\n",
        "def check_id_logout():\n",
        "  user = user_account['id']\n",
        "  if user_account and 'id' in user_account and user_account['id'] != \"\":\n",
        "    print(f'User {user} logged out of the account.')\n",
        "    exit()\n",
        "  else:\n",
        "    print(f'You have successfully logged out of the account.')\n",
        "    exit()\n",
        "\n",
        "def print_balance():\n",
        "  initial_balance = 0\n",
        "  # Check if user_account is defined and contains the key 'current_balance' before accessing it.\n",
        "  if user_account and 'current_balance' in user_account:\n",
        "    current_balance = user_account[\"current_balance\"]\n",
        "    print(f'{user_id} balance: ${current_balance:.2f}\\n')\n",
        "    select_choice(user_action)\n",
        "  else:\n",
        "    print(\"\\nError: Account balance not found. Please login first.\\n\")\n",
        "    select_choice(user_action)\n",
        "\n",
        "#save current password\n",
        "user_account = {}\n",
        "\n",
        "current_password = user_account.get('password','')\n",
        "\n",
        "def change_password(password):\n",
        "  crnt_pass = input(\"Enter current password: \")\n",
        "  if crnt_pass == user_account['password']:\n",
        "    #print(crnt_pass)\n",
        "    user_account['password'] = input('Enter NEW password: ')\n",
        "    new_password = user_account['password']\n",
        "    print(f'Password updated successfully.\\n')\n",
        "    #print(user_account)\n",
        "    select_choice(user_action)\n",
        "  else:\n",
        "    print(\"Wrong password.\")\n",
        "    crnt_pass = input(\"Try again: \")\n",
        "\n",
        "def deposit(amount):\n",
        "  current_balance = user_account['current_balance']\n",
        "  #print(f'\\nAccount Balance: ${current_balance}')\n",
        "  user_deposit = float(input(\"Enter deposit amount: $\"))\n",
        "  user_account['current_balance'] = current_balance + user_deposit\n",
        "  #print(user_account)\n",
        "  print(f'New Balance: ${current_balance + user_deposit:.2f}\\n')\n",
        "  select_choice(user_action)\n",
        "  return current_balance\n",
        "\n",
        "def withdraw(amount):\n",
        "  current_balance = user_account['current_balance']\n",
        "  #print(f'Account Balance: ${current_balance}')\n",
        "  user_withdraw = float(input(\"Enter withdrawal amount: $\"))\n",
        "  user_account['current_balance'] = current_balance - user_withdraw\n",
        "  #print(user_account)\n",
        "  print(f'New acct balance: ${current_balance - user_withdraw:.2f}\\n')\n",
        "  select_choice(user_action)\n",
        "  return current_balance\n",
        "\n",
        "# Initialize user_action to a default value\n",
        "user_action = 0\n",
        "\n",
        "#Declare user and current balance before functions\n",
        "user = \"\"\n",
        "\n",
        "#print(\"Simple Banking System by Chinwe' Watkins\")\n",
        "create_account()\n",
        "print(\"*********** MENU ***********\\n\")\n",
        "print(\"Select a service:\")\n",
        "print(\"1. Login\")\n",
        "print(\"2. Deposit to Account\")\n",
        "print(\"3. Withdraw from Account\")\n",
        "print(\"4. Print Balance\")\n",
        "print(\"5. Change Password\")\n",
        "print(\"6. Exit/Logout\\n\")\n",
        "print(\"*********** MENU ***********\\n\")\n",
        "\n",
        "select_choice(user_action)"
      ],
      "metadata": {
        "colab": {
          "base_uri": "https://localhost:8080/"
        },
        "id": "8RYXF9HzOF_Z",
        "outputId": "0bbbc80d-9088-45b3-8527-414ec57cbc15"
      },
      "execution_count": 1,
      "outputs": [
        {
          "output_type": "stream",
          "name": "stdout",
          "text": [
            "\n",
            "Welcome to the Simple Banking System!\n",
            "\n",
            "Enter new user ID: chinwe1\n",
            "Enter password: watkins1\n",
            "Enter initial balance: $1000\n",
            "\n",
            "Account created sucessfully!\n",
            "\n",
            "*********** MENU ***********\n",
            "\n",
            "Select a service:\n",
            "1. Login\n",
            "2. Deposit to Account\n",
            "3. Withdraw from Account\n",
            "4. Print Balance\n",
            "5. Change Password\n",
            "6. Exit/Logout\n",
            "\n",
            "*********** MENU ***********\n",
            "\n",
            "Enter Choice> 1\n",
            "Enter user ID: chinwe1\n",
            "Enter password: watkins1\n",
            "User chinwe1 is logged in successfully.\n",
            "\n",
            "Enter Choice> 2\n",
            "Enter deposit amount: $1684\n",
            "New Balance: $2684.00\n",
            "\n",
            "Enter Choice> 3\n",
            "Enter withdrawal amount: $654.12\n",
            "New acct balance: $2029.88\n",
            "\n",
            "Enter Choice> 4\n",
            "chinwe1 balance: $2029.88\n",
            "\n",
            "Enter Choice> 5\n",
            "Enter current password: watkins1\n",
            "Enter NEW password: pettes1\n",
            "Password updated successfully.\n",
            "\n",
            "Enter Choice> 6\n",
            "User chinwe1 logged out of the account.\n",
            "Thank you for using the Simple Banking System!\n"
          ]
        }
      ]
    }
  ]
}