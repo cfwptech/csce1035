{
  "nbformat": 4,
  "nbformat_minor": 0,
  "metadata": {
    "colab": {
      "provenance": [],
      "authorship_tag": "ABX9TyPb8TMIdddiRsLhAGm5z7wA",
      "include_colab_link": true
    },
    "kernelspec": {
      "name": "python3",
      "display_name": "Python 3"
    },
    "language_info": {
      "name": "python"
    }
  },
  "cells": [
    {
      "cell_type": "markdown",
      "metadata": {
        "id": "view-in-github",
        "colab_type": "text"
      },
      "source": [
        "<a href=\"https://colab.research.google.com/github/cfwptech/csce1035/blob/main/project02.ipynb\" target=\"_parent\"><img src=\"https://colab.research.google.com/assets/colab-badge.svg\" alt=\"Open In Colab\"/></a>"
      ]
    },
    {
      "cell_type": "markdown",
      "source": [
        "1. Password Encryption:\n",
        "- Functionality:\n",
        "  - Implement a function named encrypt_password that applies a Caesar cipher encryption to the user's password\n",
        "    - shifting each letter (uppercase and lowercase) and digit by three positions forward.\n",
        "    - Characters that wrap around (e.g., 'z' to 'c', '9' to '2') should be correctly handled, while non-alphanumeric characters remain unchanged.\n",
        "- Technical Details:\n",
        "  - Utilize ASCII values for encryption,\n",
        "    - adapting the formula (m + 3 - base) % range + base for different character sets (uppercase, lowercase, digits), where m is the ASCII value of the character, base is the starting ASCII value of the character set, and range is the size of the character set (26 for letters, 10 for digits)."
      ],
      "metadata": {
        "id": "wK---4J7uohy"
      }
    },
    {
      "cell_type": "code",
      "execution_count": null,
      "metadata": {
        "id": "LsIqF83NuTN6",
        "colab": {
          "base_uri": "https://localhost:8080/"
        },
        "outputId": "a6d938b1-983e-4e2d-adad-267f285416f6"
      },
      "outputs": [
        {
          "output_type": "stream",
          "name": "stdout",
          "text": [
            "Enter your password: Poopa214*\n",
            "Poopa214*\n",
            "Srrsd547*\n"
          ]
        }
      ],
      "source": [
        "# Password Encryption\n",
        "\n",
        "# prompt user password\n",
        "user_password = input(\"Enter your password: \")\n",
        "\n",
        "# define function to encrypt password\n",
        "def encrypt_password(password):\n",
        "  # set the encryption string\n",
        "  encryption = \"\"\n",
        "  #iterate the user password to change each char\n",
        "  for char in user_password:\n",
        "  #if the char a isupper,\n",
        "    if char.isupper():\n",
        "  #identify the base ascii letter\n",
        "      base = ord('A')\n",
        "      range = 26\n",
        "  #apply the formula on the ascii num of the char\n",
        "      new_char = chr((ord(char) + 3 - base) % range + base)\n",
        "  #if the char a islower,\n",
        "    elif char.islower():\n",
        "  #identify the base ascii letter\n",
        "      base = ord('a')\n",
        "      range = 26\n",
        "  #apply the formula on the ascii num of the char\n",
        "      new_char = chr((ord(char) + 3 - base) % range + base)\n",
        "  #if char is a number\n",
        "    elif char.isdigit():\n",
        "  #identify the base ascii\n",
        "      base = ord('0')\n",
        "      range = 10\n",
        "  #apply the formula to the number\n",
        "      new_char = chr((ord(char) + 3 - base) % range + base)\n",
        "  #all others, add to enctrpyion unchanged\n",
        "    else:\n",
        "      new_char = char\n",
        "  # add chars to encryption and return the new char\n",
        "    encryption += new_char\n",
        "  #return new encryption string\n",
        "  return encryption\n",
        "\n",
        "# call encrypt function on user password\n",
        "print(encrypt_password(user_password))"
      ]
    },
    {
      "cell_type": "markdown",
      "source": [
        "2. Account Transactions:\n",
        "- Deposits:\n",
        "  - Develop a function deposit_amount that increases the account's balance by a specified amount. It should accept a floating-point number as input and print the updated balance.\n",
        "- Withdrawals:\n",
        "  - Create a function withdraw_amount to decrease the account's balance by a specified amount, provided there are sufficient funds. It should print the new balance or a warning message in case of insufficient funds."
      ],
      "metadata": {
        "id": "c4EGxQjaZJWQ"
      }
    },
    {
      "cell_type": "code",
      "source": [
        "# login\n",
        "def login():\n",
        "  print(\"Welcome to the Simple Banking System!\\n\")\n",
        "  user_id = input(\"Enter new user ID: \")\n",
        "  user_password = input(\"Enter password: \")\n",
        "  user_initial_balance = float(input(\"Enter initial balance: $\"))\n",
        "\n",
        "  user_account = {\n",
        "      \"id\": user_id,\n",
        "      \"password\": user_password,\n",
        "      \"initial_balance\": user_initial_balance\n",
        "  }\n",
        "\n",
        "  if user_account != \"\":\n",
        "    print(\"\\nAccount created sucessfully!\\n\")\n",
        "\n",
        "login()"
      ],
      "metadata": {
        "colab": {
          "base_uri": "https://localhost:8080/"
        },
        "id": "WFYmBuelHOy5",
        "outputId": "71772bff-7f50-4779-b035-8615311014bd"
      },
      "execution_count": null,
      "outputs": [
        {
          "output_type": "stream",
          "name": "stdout",
          "text": [
            "Welcome to the Simple Banking System!\n",
            "\n",
            "Enter new user ID: chinew\n",
            "Enter password: watjins\n",
            "Enter initial balance: $1555\n",
            "\n",
            "Account created sucessfully!\n",
            "\n"
          ]
        }
      ]
    },
    {
      "cell_type": "code",
      "source": [
        "# logout\n",
        "\n",
        "user_id = input(\"Enter new user ID: \")\n",
        "user_password = input(\"Enter password: \")\n",
        "user_initial_balance = float(input(\"Enter initial balance: $\"))\n",
        "\n",
        "user_account = {\n",
        "    \"id\": user_id,\n",
        "    \"password\": user_password,\n",
        "    \"initial_balance\": user_initial_balance\n",
        "}\n",
        "\n",
        "def check_id():\n",
        "  user = user_account['id']\n",
        "  if user_account['id'] != \"\":\n",
        "     print(f'User {user} logged out of the account.')\n",
        "  elif user_account['id'] == \"\":\n",
        "    print(f'You have successfully logged out of the account.')\n",
        "  else:\n",
        "    print(\"404: Sorry. Failed app. \")\n",
        "\n",
        "check_id()"
      ],
      "metadata": {
        "colab": {
          "base_uri": "https://localhost:8080/"
        },
        "id": "Ztop_YXJYiYI",
        "outputId": "cf2c6708-498a-46d1-b764-c03d3cea79c1"
      },
      "execution_count": null,
      "outputs": [
        {
          "output_type": "stream",
          "name": "stdout",
          "text": [
            "Enter new user ID: chinwe\n",
            "Enter password: me123\n",
            "Enter initial balance: $777\n",
            "User chinwe logged out of the account.\n"
          ]
        }
      ]
    },
    {
      "cell_type": "code",
      "source": [
        "# Print balance\n",
        "user_initial_balance = float(input(\"Enter initial balance: $\"))\n",
        "user_deposit = float(input(\"Deposit funds: $\"))\n",
        "user_withdraw = float(input(\"Withdraw funds: $\"))\n",
        "\n",
        "user_account = {\n",
        "    \"id\": user_id,\n",
        "    \"password\": user_password,\n",
        "    \"initial_balance\": user_initial_balance,\n",
        "    \"deposit\": user_deposit,\n",
        "    \"withdraw\": user_withdraw,\n",
        "    \"current_balance\": 0\n",
        "}\n",
        "\n",
        "def print_balance():\n",
        "  current_balance = user_initial_balance + user_deposit - user_withdraw\n",
        "  print(f'Current Balance: $ {current_balance}')\n",
        "\n",
        "print_balance()"
      ],
      "metadata": {
        "colab": {
          "base_uri": "https://localhost:8080/"
        },
        "id": "YAohEANErpgq",
        "outputId": "ba4c3469-8819-4f30-c305-8386a134a207"
      },
      "execution_count": null,
      "outputs": [
        {
          "output_type": "stream",
          "name": "stdout",
          "text": [
            "Enter initial balance: $100\n",
            "Deposit funds: $200\n",
            "Withdraw funds: $0\n",
            "Current Balance: $ 300.0\n"
          ]
        }
      ]
    },
    {
      "cell_type": "code",
      "source": [
        "user_initial_balance = float(input(\"Enter initial balance: $\"))\n",
        "\n",
        "user_account = {\n",
        "      \"id\": user_id,\n",
        "      \"password\": user_password,\n",
        "      \"initial_balance\": user_initial_balance,\n",
        "      \"current_balance\": user_initial_balance\n",
        "  }\n",
        "\n",
        "user = user_account['id']\n",
        "current_balance = user_account['current_balance'] #+ user_deposit - user_withdraw\n",
        "\n",
        "print(user_account['current_balance'])"
      ],
      "metadata": {
        "colab": {
          "base_uri": "https://localhost:8080/"
        },
        "id": "tKnZTiGZ_0Jo",
        "outputId": "f46b6829-c968-4519-905a-dcb135454747"
      },
      "execution_count": null,
      "outputs": [
        {
          "output_type": "stream",
          "name": "stdout",
          "text": [
            "Enter initial balance: $100\n",
            "100.0\n"
          ]
        }
      ]
    },
    {
      "cell_type": "code",
      "source": [
        "# Change password\n",
        "\n",
        "#take password from user\n",
        "start_password = ''\n",
        "user_password = input('Enter password: ')\n",
        "current_password = user_password\n",
        "\n",
        "#user account dictionary\n",
        "user_account = {\n",
        "      \"password\": user_password\n",
        "  }\n",
        "\n",
        "#define is_password function to check if there is a password in the user account\n",
        "def is_password(password):\n",
        "  if user_account['password']:\n",
        "    user_account['password'] = user_password\n",
        "  else:\n",
        "    user_account['password'] = input('Enter new password: ')\n",
        "    print(user_account['password'])\n",
        "\n",
        "#define change password function\n",
        "def change_password(user_password):\n",
        "  current_password = user_password\n",
        "  print(current_password)\n",
        "  user_account['password'] = input('Enter NEW password: ')\n",
        "  new_password = user_account['password']\n",
        "  print(f'The new password is: {new_password}')\n",
        "\n",
        "#call funtion\n",
        "#is_password(user_password)\n",
        "change_password(user_password)"
      ],
      "metadata": {
        "colab": {
          "base_uri": "https://localhost:8080/"
        },
        "id": "AWtury1gMCJG",
        "outputId": "98aaa427-76f4-4309-dd84-d0aff149d47f"
      },
      "execution_count": null,
      "outputs": [
        {
          "output_type": "stream",
          "name": "stdout",
          "text": [
            "Enter password: chiolsnfd\n",
            "chiolsnfd\n",
            "Enter NEW password: lklsjmdnf\n",
            "The new password is: lklsjmdnf\n"
          ]
        }
      ]
    },
    {
      "cell_type": "code",
      "source": [
        "# Account Transactions - deposit\n",
        "initial_balance = 1000\n",
        "\n",
        "\n",
        "user_account = {\n",
        "       \"initial_balance\": initial_balance,\n",
        "       \"current_balance\": current_balance\n",
        "   }\n",
        "\n",
        "# Deposit: define function to add user deposit to bank balance\n",
        "def deposit(amount):\n",
        "  current_balance = initial_balance\n",
        "  print(f'Account Balance: ${current_balance}')\n",
        "  user_deposit = float(input(\"Enter amount to deposit: $\"))\n",
        "  current_balance = print(f'Your new acct balance: {amount + user_deposit}')\n",
        "  return current_balance\n",
        "\n",
        "deposit(initial_balance)"
      ],
      "metadata": {
        "id": "0iKi5MAmZZ7i",
        "colab": {
          "base_uri": "https://localhost:8080/"
        },
        "outputId": "14d01fd7-b75d-459c-bc27-ed5667ca7725"
      },
      "execution_count": 38,
      "outputs": [
        {
          "output_type": "stream",
          "name": "stdout",
          "text": [
            "Account Balance: $1000\n",
            "Enter amount to deposit: $500\n",
            "Your new acct balance: 1500.0\n"
          ]
        }
      ]
    },
    {
      "cell_type": "code",
      "source": [
        "# Account Transactions - withdraw\n",
        "current_balance = 1000\n",
        "\n",
        "user_account = {\n",
        "       \"current_balance\": current_balance\n",
        "   }\n",
        "\n",
        "# Deposit: define function to add user deposit to bank balance\n",
        "def withdraw(amount):\n",
        "  current_balance = user_account['current_balance']\n",
        "  print(f'Account Balance: ${current_balance}')\n",
        "  user_withdraw = float(input(\"Enter amount to withdraw: $\"))\n",
        "  current_balance = print(f'Your new acct balance: ${amount - user_withdraw}')\n",
        "  return current_balance\n",
        "\n",
        "withdraw(current_balance)"
      ],
      "metadata": {
        "colab": {
          "base_uri": "https://localhost:8080/"
        },
        "id": "OrH0JXrdHlIc",
        "outputId": "c080d75b-ecdf-4393-aa54-9ee1c818edca"
      },
      "execution_count": 6,
      "outputs": [
        {
          "output_type": "stream",
          "name": "stdout",
          "text": [
            "Account Balance: $1000\n",
            "Enter amount to withdraw: $500\n",
            "Your new acct balance: $500.0\n"
          ]
        }
      ]
    },
    {
      "cell_type": "code",
      "source": [
        "# BankingApp - v1\n",
        "\n",
        "def select_choice(user_action):\n",
        "  initial_balance = 0\n",
        "  user_action = int(input(\"Enter Choice> \"))\n",
        "  if user_action == 1:\n",
        "    login()\n",
        "  elif user_action == 2:\n",
        "    deposit(initial_balance)\n",
        "  elif user_action == 3:\n",
        "    withdraw(user_account['current_balance'])\n",
        "  elif user_action == 4:\n",
        "    print_balance()\n",
        "  elif user_action == 5:\n",
        "    change_password(current_password)\n",
        "  elif user_action ==  6:\n",
        "  #call logout function\n",
        "    check_id_logout()\n",
        "    print(\"Thank you for using the Simple Banking System!\")\n",
        "  else:\n",
        "    print(\"Wrong number entered. Restart program and choose a number between 1 and 6.\")\n",
        "\n",
        "def login():\n",
        "  print(\"\\nWelcome to the Simple Banking System!\\n\")\n",
        "  user_id = input(\"Enter new user ID: \")\n",
        "  user_password = input(\"Enter password: \")\n",
        "  user_initial_balance = float(input(\"Enter initial balance: $\"))\n",
        "  current_balance = user_initial_balance\n",
        "\n",
        "  global user_account\n",
        "  user_account = {\n",
        "       \"id\": user_id,\n",
        "       \"password\": user_password,\n",
        "       \"initial_balance\": user_initial_balance,\n",
        "       \"current_balance\": current_balance\n",
        "   }\n",
        "  print(user_account)\n",
        "  if user_account != \"\":\n",
        "    print(\"\\nAccount created sucessfully!\\n\")\n",
        "    select_choice(user_action)\n",
        "\n",
        "def check_id_logout():\n",
        "  user = user_account['id']\n",
        "  if user_account and 'id' in user_account and user_account['id'] != \"\":\n",
        "    print(f'\\nUser {user} logged out of the account.')\n",
        "    exit()\n",
        "  else:\n",
        "    print(f'\\nYou have successfully logged out of the account.')\n",
        "    exit()\n",
        "\n",
        "def print_balance():\n",
        "  initial_balance = 0\n",
        "  # Check if user_account is defined and contains the key 'current_balance' before accessing it.\n",
        "  if user_account and 'current_balance' in user_account:\n",
        "    current_balance = user_account[\"current_balance\"]\n",
        "    print(f'\\nCurrent Balance: ${current_balance}\\n')\n",
        "    select_choice(user_action)\n",
        "  else:\n",
        "    print(\"\\nError: Account balance not found. Please login first.\\n\")\n",
        "    select_choice(user_action)\n",
        "\n",
        "#save current password\n",
        "user_account = {}\n",
        "\n",
        "current_password = user_account.get('password','')\n",
        "\n",
        "def change_password(password):\n",
        "  crnt_pass = input(\"Enter current password: \")\n",
        "  if crnt_pass == user_account['password']:\n",
        "    print(crnt_pass)\n",
        "    user_account['password'] = input('Enter NEW password: ')\n",
        "    new_password = user_account['password']\n",
        "    print(f'The new password is: {new_password}\\n')\n",
        "    select_choice(user_action)\n",
        "  else:\n",
        "    print(\"Wrong password.\")\n",
        "    crnt_pass = input(\"Try again: \")\n",
        "\n",
        "def deposit(amount):\n",
        "  current_balance = user_account['current_balance']\n",
        "  print(f'\\nAccount Balance: ${current_balance}')\n",
        "  user_deposit = float(input(\"Enter amount to deposit: $\"))\n",
        "  user_account['current_balance'] = current_balance + user_deposit\n",
        "  print(user_account)\n",
        "  print(f'Your new acct balance: ${current_balance + user_deposit}\\n')\n",
        "  select_choice(user_action)\n",
        "  return current_balance\n",
        "\n",
        "def withdraw(amount):\n",
        "  current_balance = user_account['current_balance']\n",
        "  print(f'Account Balance: ${current_balance}')\n",
        "  user_withdraw = float(input(\"Enter amount to withdraw: $\"))\n",
        "  user_account['current_balance'] = current_balance - user_withdraw\n",
        "  print(user_account)\n",
        "  print(f'Your new acct balance: ${current_balance - user_withdraw}\\n')\n",
        "  select_choice(user_action)\n",
        "  return current_balance\n",
        "\n",
        "# Initialize user_action to a default value\n",
        "user_action = 0\n",
        "\n",
        "#Declare user and current balance before functions\n",
        "user = \"\"\n",
        "\n",
        "print(\"Simple Banking System by Chinwe' Watkins\\n\")\n",
        "print(\"*********** MENU ***********\\n\")\n",
        "print(\"Select a service:\")\n",
        "print(\"1. Login\")\n",
        "print(\"2. Deposit to Account\")\n",
        "print(\"3. Withdraw from Account\")\n",
        "print(\"4. Print Balance\")\n",
        "print(\"5. Change Password\")\n",
        "print(\"6. Exit/Logout\\n\")\n",
        "print(\"*********** MENU ***********\\n\")\n",
        "\n",
        "select_choice(user_action)"
      ],
      "metadata": {
        "colab": {
          "base_uri": "https://localhost:8080/"
        },
        "id": "8RYXF9HzOF_Z",
        "outputId": "0f2740dd-582c-44d2-9866-3969f28eb92e"
      },
      "execution_count": 5,
      "outputs": [
        {
          "output_type": "stream",
          "name": "stdout",
          "text": [
            "Simple Banking System by Chinwe' Watkins\n",
            "\n",
            "*********** MENU ***********\n",
            "\n",
            "Select a service:\n",
            "1. Login\n",
            "2. Deposit to Account\n",
            "3. Withdraw from Account\n",
            "4. Print Balance\n",
            "5. Change Password\n",
            "6. Exit/Logout\n",
            "\n",
            "*********** MENU ***********\n",
            "\n",
            "Enter Choice> 1\n",
            "\n",
            "Welcome to the Simple Banking System!\n",
            "\n",
            "Enter new user ID: adsvgfdfg\n",
            "Enter password: sdgfvdsvgf\n",
            "Enter initial balance: $1000\n",
            "{'id': 'adsvgfdfg', 'password': 'sdgfvdsvgf', 'initial_balance': 1000.0, 'current_balance': 1000.0}\n",
            "\n",
            "Account created sucessfully!\n",
            "\n",
            "Enter Choice> 2\n",
            "\n",
            "Account Balance: $1000.0\n",
            "Enter amount to deposit: $500\n",
            "{'id': 'adsvgfdfg', 'password': 'sdgfvdsvgf', 'initial_balance': 1000.0, 'current_balance': 1500.0}\n",
            "Your new acct balance: $1500.0\n",
            "\n",
            "Enter Choice> 3\n",
            "Account Balance: $1500.0\n",
            "Enter amount to withdraw: $750\n",
            "{'id': 'adsvgfdfg', 'password': 'sdgfvdsvgf', 'initial_balance': 1000.0, 'current_balance': 750.0}\n",
            "Your new acct balance: $750.0\n",
            "\n",
            "Enter Choice> 4\n",
            "\n",
            "Current Balance: $750.0\n",
            "\n",
            "Enter Choice> 5\n",
            "Enter current password: sdgfvdsvgf\n",
            "sdgfvdsvgf\n",
            "Enter NEW password: asdfasdf\n",
            "The new password is: asdfasdf\n",
            "\n",
            "Enter Choice> 6\n",
            "\n",
            "User adsvgfdfg logged out of the account.\n",
            "Thank you for using the Simple Banking System!\n"
          ]
        }
      ]
    }
  ]
}