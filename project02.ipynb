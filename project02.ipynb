{
  "nbformat": 4,
  "nbformat_minor": 0,
  "metadata": {
    "colab": {
      "provenance": [],
      "authorship_tag": "ABX9TyOTN5ZT/IoFt/lmQtWXKXlo",
      "include_colab_link": true
    },
    "kernelspec": {
      "name": "python3",
      "display_name": "Python 3"
    },
    "language_info": {
      "name": "python"
    }
  },
  "cells": [
    {
      "cell_type": "markdown",
      "metadata": {
        "id": "view-in-github",
        "colab_type": "text"
      },
      "source": [
        "<a href=\"https://colab.research.google.com/github/cfwptech/csce1035/blob/main/project02.ipynb\" target=\"_parent\"><img src=\"https://colab.research.google.com/assets/colab-badge.svg\" alt=\"Open In Colab\"/></a>"
      ]
    },
    {
      "cell_type": "markdown",
      "source": [
        "1. Password Encryption:\n",
        "- Functionality:\n",
        "  - Implement a function named encrypt_password that applies a Caesar cipher encryption to the user's password\n",
        "    - shifting each letter (uppercase and lowercase) and digit by three positions forward.\n",
        "    - Characters that wrap around (e.g., 'z' to 'c', '9' to '2') should be correctly handled, while non-alphanumeric characters remain unchanged.\n",
        "- Technical Details:\n",
        "  - Utilize ASCII values for encryption,\n",
        "    - adapting the formula (m + 3 - base) % range + base for different character sets (uppercase, lowercase, digits), where m is the ASCII value of the character, base is the starting ASCII value of the character set, and range is the size of the character set (26 for letters, 10 for digits)."
      ],
      "metadata": {
        "id": "wK---4J7uohy"
      }
    },
    {
      "cell_type": "code",
      "execution_count": 8,
      "metadata": {
        "id": "LsIqF83NuTN6",
        "colab": {
          "base_uri": "https://localhost:8080/"
        },
        "outputId": "a6d938b1-983e-4e2d-adad-267f285416f6"
      },
      "outputs": [
        {
          "output_type": "stream",
          "name": "stdout",
          "text": [
            "Enter your password: Poopa214*\n",
            "Poopa214*\n",
            "Srrsd547*\n"
          ]
        }
      ],
      "source": [
        "# Password Encryption\n",
        "\n",
        "# prompt user password\n",
        "user_password = input(\"Enter your password: \")\n",
        "\n",
        "# define function to encrypt password\n",
        "def encrypt_password(password):\n",
        "  # set the encryption string\n",
        "  encryption = \"\"\n",
        "  #iterate the user password to change each char\n",
        "  for char in user_password:\n",
        "  #if the char a isupper,\n",
        "    if char.isupper():\n",
        "  #identify the base ascii letter\n",
        "      base = ord('A')\n",
        "      range = 26\n",
        "  #apply the formula on the ascii num of the char\n",
        "      new_char = chr((ord(char) + 3 - base) % range + base)\n",
        "  #if the char a islower,\n",
        "    elif char.islower():\n",
        "  #identify the base ascii letter\n",
        "      base = ord('a')\n",
        "      range = 26\n",
        "  #apply the formula on the ascii num of the char\n",
        "      new_char = chr((ord(char) + 3 - base) % range + base)\n",
        "  #if char is a number\n",
        "    elif char.isdigit():\n",
        "  #identify the base ascii\n",
        "      base = ord('0')\n",
        "      range = 10\n",
        "  #apply the formula to the number\n",
        "      new_char = chr((ord(char) + 3 - base) % range + base)\n",
        "  #all others, add to enctrpyion unchanged\n",
        "    else:\n",
        "      new_char = char\n",
        "  # add chars to encryption and return the new char\n",
        "    encryption += new_char\n",
        "  #return new encryption string\n",
        "  return encryption\n",
        "\n",
        "# call encrypt function on user password\n",
        "print(encrypt_password(user_password))"
      ]
    },
    {
      "cell_type": "markdown",
      "source": [
        "2. Account Transactions:\n",
        "- Deposits:\n",
        "  - Develop a function deposit_amount that increases the account's balance by a specified amount. It should accept a floating-point number as input and print the updated balance.\n",
        "- Withdrawals:\n",
        "  - Create a function withdraw_amount to decrease the account's balance by a specified amount, provided there are sufficient funds. It should print the new balance or a warning message in case of insufficient funds."
      ],
      "metadata": {
        "id": "c4EGxQjaZJWQ"
      }
    },
    {
      "cell_type": "code",
      "source": [
        "# Account Transactions\n",
        "\n",
        "bank_balance = 0\n",
        "user_action = \"\"\n",
        "\n",
        "# Deposits\n",
        "# prompt user for float to deposit into bank\n",
        "user_deposit = float(input(\"Enter amount to deposit: $\"))\n",
        "# define function to add user deposit to bank balance\n",
        "def deposit(amount)\n",
        "  pass\n",
        "\n",
        "# Withdrawls\n",
        "# ask user for amount to withdraw\n",
        "user_withdraw = float(input(\"Enter amount to deposit: $\"))\n",
        "# define function to withdraw from bank balance\n",
        "def withdraw(amount)\n",
        "  pass\n",
        "\n",
        "# update balance according to withdraw or deposit and amount\n",
        "if\n",
        "# print new bank balance\n",
        "print(bank_balance)"
      ],
      "metadata": {
        "id": "0iKi5MAmZZ7i"
      },
      "execution_count": null,
      "outputs": []
    },
    {
      "cell_type": "code",
      "source": [
        "# login\n",
        "def login():\n",
        "  print(\"Welcome to the Simple Banking System!\\n\")\n",
        "  user_id = input(\"Enter new user ID: \")\n",
        "  user_password = input(\"Enter password: \")\n",
        "  user_initial_balance = float(input(\"Enter initial balance: $\"))\n",
        "\n",
        "  user_account = {\n",
        "      \"id\": user_id,\n",
        "      \"password\": user_password,\n",
        "      \"initial_balance\": user_initial_balance\n",
        "  }\n",
        "\n",
        "  if user_account != \"\":\n",
        "    print(\"\\nAccount created sucessfully!\\n\")\n",
        "\n",
        "login()"
      ],
      "metadata": {
        "colab": {
          "base_uri": "https://localhost:8080/"
        },
        "id": "WFYmBuelHOy5",
        "outputId": "71772bff-7f50-4779-b035-8615311014bd"
      },
      "execution_count": 22,
      "outputs": [
        {
          "output_type": "stream",
          "name": "stdout",
          "text": [
            "Welcome to the Simple Banking System!\n",
            "\n",
            "Enter new user ID: chinew\n",
            "Enter password: watjins\n",
            "Enter initial balance: $1555\n",
            "\n",
            "Account created sucessfully!\n",
            "\n"
          ]
        }
      ]
    },
    {
      "cell_type": "code",
      "source": [
        "# logout\n",
        "\n",
        "user_id = input(\"Enter new user ID: \")\n",
        "user_password = input(\"Enter password: \")\n",
        "user_initial_balance = float(input(\"Enter initial balance: $\"))\n",
        "\n",
        "user_account = {\n",
        "    \"id\": user_id,\n",
        "    \"password\": user_password,\n",
        "    \"initial_balance\": user_initial_balance\n",
        "}\n",
        "\n",
        "def check_id():\n",
        "  user = user_account['id']\n",
        "  if user_account['id'] != \"\":\n",
        "     print(f'User {user} logged out of the account.')\n",
        "  elif user_account['id'] == \"\":\n",
        "    print(f'You have successfully logged out of the account.')\n",
        "  else:\n",
        "    print(\"404: Sorry. Failed app. \")\n",
        "\n",
        "check_id()"
      ],
      "metadata": {
        "colab": {
          "base_uri": "https://localhost:8080/"
        },
        "id": "Ztop_YXJYiYI",
        "outputId": "cf2c6708-498a-46d1-b764-c03d3cea79c1"
      },
      "execution_count": 30,
      "outputs": [
        {
          "output_type": "stream",
          "name": "stdout",
          "text": [
            "Enter new user ID: chinwe\n",
            "Enter password: me123\n",
            "Enter initial balance: $777\n",
            "User chinwe logged out of the account.\n"
          ]
        }
      ]
    },
    {
      "cell_type": "code",
      "source": [
        "# full program\n",
        "\n",
        "user_account = {\n",
        "      \"id\": user_id,\n",
        "      \"password\": user_password,\n",
        "      \"initial_balance\": user_initial_balance\n",
        "  }\n",
        "\n",
        "user = user_account['id']\n",
        "\n",
        "def select_choice(user_action):\n",
        "  user_action = int(input(\"Enter Choice> \"))\n",
        "  if user_action == 1:\n",
        "    login()\n",
        "#elif user_action == 2:\n",
        "  #call deposit function\n",
        "#elif user_action == 3:\n",
        "  #call withdraw function\n",
        "#elif user_action == 4:\n",
        "  #call print balance function\n",
        "#elif user_action == 5:\n",
        "  #call change password\n",
        "  else:\n",
        "  #call logout function\n",
        "    check_id()\n",
        "    print(\"Thank you for using the Simple Banking System!\")\n",
        "\n",
        "def login():\n",
        "  print(\"\\nWelcome to the Simple Banking System!\\n\")\n",
        "  user_id = input(\"Enter new user ID: \")\n",
        "  user_password = input(\"Enter password: \")\n",
        "  user_initial_balance = float(input(\"Enter initial balance: $\"))\n",
        "  if user_account != \"\":\n",
        "    print(\"\\nAccount created sucessfully!\\n\")\n",
        "    select_choice(user_action)\n",
        "\n",
        "def check_id():\n",
        "  if user_account['id'] != \"\":\n",
        "     print(f'\\nUser {user} logged out of the account.')\n",
        "  elif user_account['id'] == \"\":\n",
        "    print(f'\\nYou have successfully logged out of the account.')\n",
        "  else:\n",
        "    print(\"\\n404: Sorry. Failed app. \")\n",
        "    select_choice(user_action)\n",
        "\n",
        "print(\"*********** MENU ***********\\n\")\n",
        "print(\"Select a service:\")\n",
        "print(\"1. Login\")\n",
        "print(\"2. Deposit to Account\")\n",
        "print(\"3. Withdraw from Account\")\n",
        "print(\"4. Print Balance\")\n",
        "print(\"5. Change Password\")\n",
        "print(\"6. Exit/Logout\\n\")\n",
        "print(\"*********** MENU ***********\\n\")\n",
        "\n",
        "select_choice(user_action)"
      ],
      "metadata": {
        "colab": {
          "base_uri": "https://localhost:8080/"
        },
        "id": "8RYXF9HzOF_Z",
        "outputId": "6880cec2-b022-4a93-9b5d-dd87bfc9fa96"
      },
      "execution_count": 56,
      "outputs": [
        {
          "output_type": "stream",
          "name": "stdout",
          "text": [
            "*********** MENU ***********\n",
            "\n",
            "Select a service:\n",
            "1. Login\n",
            "2. Deposit to Account\n",
            "3. Withdraw from Account\n",
            "4. Print Balance\n",
            "5. Change Password\n",
            "6. Exit/Logout\n",
            "\n",
            "*********** MENU ***********\n",
            "\n",
            "Enter Choice> 1\n",
            "\n",
            "Welcome to the Simple Banking System!\n",
            "\n",
            "Enter new user ID: chinwe\n",
            "Enter password: warkins\n",
            "Enter initial balance: $444\n",
            "\n",
            "Account created sucessfully!\n",
            "\n",
            "Enter Choice> 6\n",
            "User chinwe logged out of the account.\n",
            "Thank you for using the Simple Banking System!\n"
          ]
        }
      ]
    }
  ]
}